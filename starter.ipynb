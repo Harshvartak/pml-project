{
 "cells": [
  {
   "cell_type": "code",
   "execution_count": 1,
   "id": "6e1471d0",
   "metadata": {},
   "outputs": [
    {
     "data": {
      "text/plain": [
       "(60000, 1, 28, 28)"
      ]
     },
     "execution_count": 1,
     "metadata": {},
     "output_type": "execute_result"
    }
   ],
   "source": [
    "import numpy as np\n",
    "\n",
    "image_dateset = 'datasets/unlabelled_train_data_images.npy'\n",
    "Xtrain_img = np.load(image_dateset)\n",
    "Xtrain_img.shape"
   ]
  },
  {
   "cell_type": "code",
   "execution_count": 3,
   "id": "9b9ef6c1",
   "metadata": {},
   "outputs": [
    {
     "data": {
      "image/png": "[encoded data removed]",
      "text/plain": [
       "<Figure size 640x480 with 1 Axes>"
      ]
     },
     "metadata": {},
     "output_type": "display_data"
    }
   ],
   "source": [
    "import matplotlib.pyplot as plt\n",
    "def view_img(df, idx):\n",
    "    img = df[idx]\n",
    "    img = img.squeeze()\n",
    "    plt.imshow(img, cmap='gray')\n",
    "    # plt.title(f'Label: {label}')\n",
    "    plt.axis('off')\n",
    "    plt.show()\n",
    "\n",
    "view_img(Xtrain_img, 1)"
   ]
  },
  {
   "cell_type": "code",
   "execution_count": null,
   "id": "905deac0",
   "metadata": {},
   "outputs": [
    {
     "name": "stdout",
     "output_type": "stream",
     "text": [
      "1500\n"
     ]
    }
   ],
   "source": [
    "import pickle\n",
    "\n",
    "text_dataset = 'datasets/train_data_text.pkl'\n",
    "X_train_text = pickle.load(open(text_dataset, 'rb'))\n",
    "print(len(X_train_text))"
   ]
  },
  {
   "cell_type": "code",
   "execution_count": 5,
   "id": "6500a126",
   "metadata": {},
   "outputs": [
    {
     "data": {
      "text/plain": [
       "'\\nIn article <1993Apr19.131102.7843@rchland.ibm.com> \\nxzz0280@rchland.vnet.ibm.com (R. J. Traff) writes:\\n>|> In article <C5MuIw.AqC@mailer.cc.fsu.edu> \\n>|> dlecoint@garnet.acns.fsu.edu (Darius_Lecointe) writes:\\n>|> >question is \"On what authority do we proclaim that the requirements of the\\n>|>               ^^^^^^^^^^^^^^^^^^^^^^^^^^^^^^^^^^^^^^^^^^^^^^^^^^^^^^^^^^^^^\\n>|> >fourth commandment are no longer relevant to modern Christians?\"  Please\\n>|> ^^^^^^^^^^^^^^^^^^^^^^^^^^^^^^^^^^^^^^^^^^^^^^^^^^^^^^^^^^^^^^^^\\n>I don\\'t believe most Christians believe they are *above* the Law.  However,\\n>we are not saved by adherence to the Law.  The Law exists to tell us what\\n>is sinful.  We all sin.\\n\\nHence we are \"all\" above the Law where \"all\" in this case refers to\\nChristians.\\n\\n>Jews believe that their sins are atoned for with\\n>blood sacrifice of animals as described in the Old Testament.\\n\\nWhen was the last time you heard about a Jewish animal sacrifice?\\n\\n>Christians \\n>believe that their sins are atoned for by the blood sacrifice of Jesus.\\n\\nThe blood sacrifice of an innocent man?\\n\\n>This does not make the Law \\'irrelevant\\'.\\n\\nThen why don\\'t Christians follow it, why don\\'t they even follow their\\nown Ten Commandments?\\n\\n>Breaking the Law *is* sinful,\\n>and we are to avoid sinful ways, but sinning, by itself, does not jeopardize\\n>salvation.\\n\\nSo, in short; Hitler is in heaven and Gandhi is in Hell?\\n\\n>Note that I\\'m not a theologian.  But this is the gist of several\\n>sermons I\\'ve heard lately and some Bible studies I\\'ve been through.  \\n\\nDid you ever wonder if someone, perhaps a great deceiver, was pulling\\nyour leg?\\n'"
      ]
     },
     "execution_count": 5,
     "metadata": {},
     "output_type": "execute_result"
    }
   ],
   "source": [
    "X_train_text[1]\n"
   ]
  }
 ],
 "metadata": {
  "kernelspec": {
   "display_name": "Python 3",
   "language": "python",
   "name": "python3"
  },
  "language_info": {
   "codemirror_mode": {
    "name": "ipython",
    "version": 3
   },
   "file_extension": ".py",
   "mimetype": "text/x-python",
   "name": "python",
   "nbconvert_exporter": "python",
   "pygments_lexer": "ipython3",
   "version": "3.11.5"
  }
 },
 "nbformat": 4,
 "nbformat_minor": 5
}
