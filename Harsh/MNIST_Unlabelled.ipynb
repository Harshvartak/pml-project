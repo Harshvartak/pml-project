{
 "cells": [
  {
   "cell_type": "code",
   "execution_count": 1,
   "id": "39dc3e95",
   "metadata": {},
   "outputs": [],
   "source": [
    "import numpy as np\n",
    "from sklearn.decomposition import PCA\n",
    "from sklearn.cluster import KMeans\n",
    "from sklearn.linear_model import LogisticRegression\n",
    "from sklearn.metrics import silhouette_score, calinski_harabasz_score\n",
    "from sklearn.model_selection import train_test_split\n",
    "from sklearn.preprocessing import StandardScaler\n",
    "from sklearn.metrics import accuracy_score\n",
    "from scipy.stats import mode\n",
    "from sklearn.mixture import GaussianMixture\n",
    "from sklearn.metrics import silhouette_score\n",
    "from sklearn.preprocessing import StandardScaler\n",
    "import umap.umap_ as umap\n",
    "\n",
    "import warnings\n",
    "warnings.filterwarnings(\"ignore\")"
   ]
  },
  {
   "cell_type": "code",
   "execution_count": 2,
   "id": "98772719",
   "metadata": {},
   "outputs": [],
   "source": [
    "X = np.load(\"datasets/unlabelled_train_data_images.npy\")"
   ]
  },
  {
   "cell_type": "code",
   "execution_count": 3,
   "id": "ced95bff",
   "metadata": {},
   "outputs": [],
   "source": [
    "def generate_pseudo_labels(X, max_iterations=5):\n",
    "    # Preprocess\n",
    "    X_flat = X.reshape(X.shape[0], -1)\n",
    "    X_scaled = StandardScaler().fit_transform(X_flat)\n",
    "    pca = PCA(n_components=50)\n",
    "    X_pca = pca.fit_transform(X_scaled)\n",
    "\n",
    "    print(f\"PCA reduced to {pca.n_components_} components to preserve 90% variance.\")\n",
    "    best_score = -np.inf\n",
    "    best_labels = None\n",
    "\n",
    "    for iteration in range(max_iterations):\n",
    "        print(f\"\\n--- Iteration {iteration+1} ---\")\n",
    "\n",
    "        # Step 1: Clustering\n",
    "        kmeans = KMeans(n_clusters=10, random_state=iteration)\n",
    "        cluster_labels = kmeans.fit_predict(X_pca)\n",
    "\n",
    "        # Step 2: Structure-Based Score\n",
    "        sil_score = silhouette_score(X_pca, cluster_labels)\n",
    "        ch_score = calinski_harabasz_score(X_pca, cluster_labels)\n",
    "        structure_score = (sil_score + ch_score / 1000)  # normalize CH\n",
    "\n",
    "        # Step 3: Classifier on Pseudo-labels\n",
    "        X_train, X_test, y_train, y_test = train_test_split(X_flat, cluster_labels, test_size=0.2, random_state=42)\n",
    "        clf = LogisticRegression(max_iter=1000)\n",
    "        clf.fit(X_train, y_train)\n",
    "        y_pred = clf.predict(X_test)\n",
    "        clf_score = accuracy_score(y_test, y_pred)\n",
    "\n",
    "        # Step 4: Combined Score\n",
    "        final_score = 0.5 * structure_score + 0.5 * clf_score\n",
    "        print(f\"Silhouette: {sil_score:.4f}, CH: {ch_score:.1f}, Classifier Acc: {clf_score:.4f}, Combined: {final_score:.4f}\")\n",
    "\n",
    "        if final_score > best_score:\n",
    "            best_score = final_score\n",
    "            best_labels = cluster_labels.copy()\n",
    "\n",
    "    print(f\"\\nBest Combined Score: {best_score:.4f}\")\n",
    "    return best_labels"
   ]
  },
  {
   "cell_type": "code",
   "execution_count": 9,
   "id": "f2787549",
   "metadata": {},
   "outputs": [],
   "source": [
    "def generate_psuedo_labels_umap_GMM(X, max_iterations=5):\n",
    "    X_flat = X.reshape(X.shape[0],-1)\n",
    "    X_scaled = StandardScaler().fit_transform(X_flat)\n",
    "    \n",
    "    reducer = umap.UMAP(n_components=10, n_neighbors=30, min_dist=0.1, random_state=42)\n",
    "    X_umap = reducer.fit_transform(X_scaled)\n",
    "    print(f\"UMAP reduced to {X_umap.shape[1]} dimensions.\")\n",
    "    \n",
    "    best_score = -np.inf\n",
    "    best_labels = None\n",
    "    \n",
    "    for iteration in range(max_iterations):\n",
    "        print(f\"\\n--- Iteration {iteration+1} ---\")\n",
    "        gmm = GaussianMixture(n_components=10, init_params='kmeans',max_iter=500 ,covariance_type='full', random_state=iteration)\n",
    "        cluster_labels = gmm.fit_predict(X_umap)\n",
    "    \n",
    "        sil_score = silhouette_score(X_umap, cluster_labels)\n",
    "        ch_score = calinski_harabasz_score(X_umap, cluster_labels)\n",
    "        \n",
    "        structure_score = (sil_score + ch_score / 1000)\n",
    "        \n",
    "        X_train, X_test, y_train, y_test = train_test_split(X_flat, cluster_labels, test_size=0.2, random_state=42)\n",
    "        clf = LogisticRegression(max_iter=1000)\n",
    "        clf.fit(X_train, y_train)\n",
    "        y_pred = clf.predict(X_test)\n",
    "        clf_score = accuracy_score(y_test, y_pred)\n",
    "\n",
    "        # Step 4: Combined Score\n",
    "        final_score = 0.5 * structure_score + 0.5 * clf_score\n",
    "        print(f\"Silhouette: {sil_score:.4f}, CH: {ch_score:.1f}, Classifier Acc: {clf_score:.4f}, Combined: {final_score:.4f}\")\n",
    "\n",
    "        if final_score > best_score:\n",
    "            best_score = final_score\n",
    "            best_labels = cluster_labels.copy()\n",
    "    print(f\"\\nBest Combined Score: {best_score:.4f}\")\n",
    "    return best_labels"
   ]
  },
  {
   "cell_type": "code",
   "execution_count": 7,
   "id": "3767c6a8",
   "metadata": {},
   "outputs": [
    {
     "name": "stdout",
     "output_type": "stream",
     "text": [
      "PCA reduced to 50 components to preserve 90% variance.\n",
      "\n",
      "--- Iteration 1 ---\n",
      "Silhouette: 0.0741, CH: 2582.4, Classifier Acc: 0.9701, Combined: 1.8133\n",
      "\n",
      "--- Iteration 2 ---\n",
      "Silhouette: 0.0742, CH: 2582.2, Classifier Acc: 0.9701, Combined: 1.8133\n",
      "\n",
      "--- Iteration 3 ---\n",
      "Silhouette: 0.0732, CH: 2582.5, Classifier Acc: 0.9723, Combined: 1.8140\n",
      "\n",
      "--- Iteration 4 ---\n",
      "Silhouette: 0.0740, CH: 2582.4, Classifier Acc: 0.9708, Combined: 1.8137\n",
      "\n",
      "--- Iteration 5 ---\n",
      "Silhouette: 0.0739, CH: 2582.3, Classifier Acc: 0.9722, Combined: 1.8142\n",
      "\n",
      "Best Combined Score: 1.8142\n"
     ]
    }
   ],
   "source": [
    "y = generate_pseudo_labels(X, max_iterations = 5)"
   ]
  },
  {
   "cell_type": "code",
   "execution_count": 10,
   "id": "cac58a44",
   "metadata": {},
   "outputs": [
    {
     "name": "stdout",
     "output_type": "stream",
     "text": [
      "UMAP reduced to 10 dimensions.\n",
      "\n",
      "--- Iteration 1 ---\n",
      "Silhouette: 0.4668, CH: 62191.5, Classifier Acc: 0.9339, Combined: 31.7961\n",
      "\n",
      "--- Iteration 2 ---\n",
      "Silhouette: 0.4534, CH: 64107.1, Classifier Acc: 0.9281, Combined: 32.7443\n",
      "\n",
      "--- Iteration 3 ---\n",
      "Silhouette: 0.4593, CH: 66695.5, Classifier Acc: 0.9367, Combined: 34.0458\n",
      "\n",
      "--- Iteration 4 ---\n",
      "Silhouette: 0.4833, CH: 61064.9, Classifier Acc: 0.9347, Combined: 31.2415\n",
      "\n",
      "--- Iteration 5 ---\n",
      "Silhouette: 0.4668, CH: 62181.4, Classifier Acc: 0.9337, Combined: 31.7909\n",
      "\n",
      "--- Iteration 6 ---\n",
      "Silhouette: 0.4619, CH: 64731.2, Classifier Acc: 0.9263, Combined: 33.0596\n",
      "\n",
      "--- Iteration 7 ---\n",
      "Silhouette: 0.4820, CH: 65901.4, Classifier Acc: 0.9358, Combined: 33.6596\n",
      "\n",
      "--- Iteration 8 ---\n",
      "Silhouette: 0.4830, CH: 61069.7, Classifier Acc: 0.9348, Combined: 31.2438\n",
      "\n",
      "--- Iteration 9 ---\n",
      "Silhouette: 0.4387, CH: 67217.4, Classifier Acc: 0.9286, Combined: 34.2923\n",
      "\n",
      "--- Iteration 10 ---\n",
      "Silhouette: 0.4387, CH: 67218.0, Classifier Acc: 0.9283, Combined: 34.2925\n",
      "\n",
      "Best Combined Score: 34.2925\n",
      "Complete\n",
      "CPU times: total: 2h 24min 29s\n",
      "Wall time: 22min 6s\n"
     ]
    }
   ],
   "source": [
    "%%time\n",
    "y1 = generate_psuedo_labels_umap_GMM(X, max_iterations=10)\n",
    "print(\"Complete\")"
   ]
  },
  {
   "cell_type": "code",
   "execution_count": 10,
   "id": "d18e9d37",
   "metadata": {},
   "outputs": [],
   "source": []
  },
  {
   "cell_type": "code",
   "execution_count": 11,
   "id": "5c51e66c",
   "metadata": {},
   "outputs": [
    {
     "data": {
      "text/plain": [
       "236"
      ]
     },
     "execution_count": 11,
     "metadata": {},
     "output_type": "execute_result"
    }
   ],
   "source": []
  },
  {
   "cell_type": "code",
   "execution_count": null,
   "id": "933427df",
   "metadata": {},
   "outputs": [],
   "source": []
  }
 ],
 "metadata": {
  "kernelspec": {
   "display_name": "Python 3 (ipykernel)",
   "language": "python",
   "name": "python3"
  },
  "language_info": {
   "codemirror_mode": {
    "name": "ipython",
    "version": 3
   },
   "file_extension": ".py",
   "mimetype": "text/x-python",
   "name": "python",
   "nbconvert_exporter": "python",
   "pygments_lexer": "ipython3",
   "version": "3.11.4"
  }
 },
 "nbformat": 4,
 "nbformat_minor": 5
}
